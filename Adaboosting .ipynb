{
 "cells": [
  {
   "cell_type": "code",
   "execution_count": 142,
   "metadata": {},
   "outputs": [
    {
     "name": "stdout",
     "output_type": "stream",
     "text": [
      "Accuracy: 77.95%\n"
     ]
    }
   ],
   "source": [
    "from numpy import loadtxt\n",
    "from xgboost import XGBClassifier\n",
    "from sklearn.model_selection import train_test_split\n",
    "from sklearn.metrics import accuracy_score\n",
    "# load data\n",
    "dataset = loadtxt('https://raw.githubusercontent.com/jbrownlee/Datasets/master/pima-indians-diabetes.data.csv', delimiter=\",\")\n",
    "# split data into X and y\n",
    "X = dataset[:,0:8]\n",
    "Y = dataset[:,8]\n",
    "# split data into train and test sets\n",
    "seed = 7\n",
    "test_size = 0.33\n",
    "X_train, X_test, y_train, y_test = train_test_split(X, Y, test_size=test_size, random_state=seed)\n",
    "# fit model on training data\n",
    "model1 = XGBClassifier()\n",
    "model1.fit(X_train, y_train)\n",
    "# make predictions for test data\n",
    "y_pred = model1.predict(X_test)\n",
    "predictions = [round(value) for value in y_pred]\n",
    "# evaluate predictions\n",
    "accuracy = accuracy_score(y_test, predictions)\n",
    "print(\"Accuracy: %.2f%%\" % (accuracy * 100.0))"
   ]
  },
  {
   "cell_type": "code",
   "execution_count": 143,
   "metadata": {},
   "outputs": [
    {
     "name": "stdout",
     "output_type": "stream",
     "text": [
      "[[ 2.    88.    74.    19.    53.    29.     0.229 22.   ]]\n"
     ]
    }
   ],
   "source": [
    "z = dataset[158,0:8]\n",
    "z=z.reshape(1,-1)\n",
    "print(z)"
   ]
  },
  {
   "cell_type": "code",
   "execution_count": 144,
   "metadata": {},
   "outputs": [
    {
     "name": "stdout",
     "output_type": "stream",
     "text": [
      "0.0\n"
     ]
    }
   ],
   "source": [
    "e = dataset[158,8]\n",
    "print(e)"
   ]
  },
  {
   "cell_type": "code",
   "execution_count": 146,
   "metadata": {},
   "outputs": [
    {
     "data": {
      "text/plain": [
       "array([0.])"
      ]
     },
     "execution_count": 146,
     "metadata": {},
     "output_type": "execute_result"
    }
   ],
   "source": [
    "model1.predict(z)"
   ]
  },
  {
   "cell_type": "code",
   "execution_count": 147,
   "metadata": {},
   "outputs": [],
   "source": [
    "from sklearn.linear_model import LogisticRegression"
   ]
  },
  {
   "cell_type": "code",
   "execution_count": 148,
   "metadata": {},
   "outputs": [
    {
     "name": "stderr",
     "output_type": "stream",
     "text": [
      "C:\\Users\\e3027859\\AppData\\Local\\Continuum\\anaconda3\\lib\\site-packages\\sklearn\\linear_model\\logistic.py:433: FutureWarning: Default solver will be changed to 'lbfgs' in 0.22. Specify a solver to silence this warning.\n",
      "  FutureWarning)\n"
     ]
    },
    {
     "name": "stdout",
     "output_type": "stream",
     "text": [
      "Accuracy: 75.59%\n"
     ]
    }
   ],
   "source": [
    "from numpy import loadtxt\n",
    "from xgboost import XGBClassifier\n",
    "from sklearn.model_selection import train_test_split\n",
    "from sklearn.metrics import accuracy_score\n",
    "# load data\n",
    "dataset = loadtxt('https://raw.githubusercontent.com/jbrownlee/Datasets/master/pima-indians-diabetes.data.csv', delimiter=\",\")\n",
    "# split data into X and y\n",
    "X = dataset[:,0:8]\n",
    "Y = dataset[:,8]\n",
    "# split data into train and test sets\n",
    "seed = 7\n",
    "test_size = 0.33\n",
    "X_train, X_test, y_train, y_test = train_test_split(X, Y, test_size=test_size, random_state=seed)\n",
    "# fit model on training data\n",
    "model2 = LogisticRegression()\n",
    "model2.fit(X_train, y_train)\n",
    "# make predictions for test data\n",
    "y_pred = model2.predict(X_test)\n",
    "predictions = [round(value) for value in y_pred]\n",
    "# evaluate predictions\n",
    "accuracy = accuracy_score(y_test, predictions)\n",
    "print(\"Accuracy: %.2f%%\" % (accuracy * 100.0))"
   ]
  },
  {
   "cell_type": "code",
   "execution_count": 149,
   "metadata": {},
   "outputs": [
    {
     "name": "stdout",
     "output_type": "stream",
     "text": [
      "[[ 17.    163.     72.     41.    114.     40.9     0.817  47.   ]]\n"
     ]
    }
   ],
   "source": [
    "m = dataset[159,0:8]\n",
    "m=m.reshape(1,-1)\n",
    "print(m)"
   ]
  },
  {
   "cell_type": "code",
   "execution_count": 150,
   "metadata": {},
   "outputs": [
    {
     "name": "stdout",
     "output_type": "stream",
     "text": [
      "1.0\n"
     ]
    }
   ],
   "source": [
    "n = dataset[130,8]\n",
    "#e=e.reshape(1,1)\n",
    "print(n)"
   ]
  },
  {
   "cell_type": "code",
   "execution_count": 152,
   "metadata": {},
   "outputs": [
    {
     "name": "stdout",
     "output_type": "stream",
     "text": [
      "[1.]\n"
     ]
    }
   ],
   "source": [
    "print(model2.predict(m))"
   ]
  },
  {
   "cell_type": "code",
   "execution_count": 153,
   "metadata": {},
   "outputs": [
    {
     "name": "stdout",
     "output_type": "stream",
     "text": [
      "Model: \"sequential_23\"\n",
      "_________________________________________________________________\n",
      "Layer (type)                 Output Shape              Param #   \n",
      "=================================================================\n",
      "dense_143 (Dense)            (None, 128)               1152      \n",
      "_________________________________________________________________\n",
      "dense_144 (Dense)            (None, 128)               16512     \n",
      "_________________________________________________________________\n",
      "dense_145 (Dense)            (None, 128)               16512     \n",
      "_________________________________________________________________\n",
      "dense_146 (Dense)            (None, 128)               16512     \n",
      "_________________________________________________________________\n",
      "dense_147 (Dense)            (None, 128)               16512     \n",
      "_________________________________________________________________\n",
      "dense_148 (Dense)            (None, 1)                 129       \n",
      "=================================================================\n",
      "Total params: 67,329\n",
      "Trainable params: 67,329\n",
      "Non-trainable params: 0\n",
      "_________________________________________________________________\n"
     ]
    }
   ],
   "source": [
    "import tensorflow as tf\n",
    "model = tf.keras.models.Sequential([\n",
    "  tf.keras.layers.Dense(128, activation='relu',input_shape=(8,)),\n",
    "  tf.keras.layers.Dense(128, activation='relu'),\n",
    "  tf.keras.layers.Dense(128, activation='relu'),\n",
    "  tf.keras.layers.Dense(128, activation='relu'),\n",
    "  tf.keras.layers.Dense(128, activation='relu'),\n",
    "  tf.keras.layers.Dense(1, activation='sigmoid')\n",
    "])\n",
    "optimizer = tf.keras.optimizers.Adam(0.0001)\n",
    "model.compile(optimizer=optimizer,\n",
    "              loss='mean_squared_error',\n",
    "              metrics=['accuracy'])\n",
    "model.summary()"
   ]
  },
  {
   "cell_type": "code",
   "execution_count": 154,
   "metadata": {},
   "outputs": [
    {
     "name": "stdout",
     "output_type": "stream",
     "text": [
      "Epoch 1/250\n",
      "514/514 [==============================] - 1s 1ms/sample - loss: 0.2614 - accuracy: 0.6362\n",
      "Epoch 2/250\n",
      "514/514 [==============================] - 0s 398us/sample - loss: 0.2291 - accuracy: 0.6595\n",
      "Epoch 3/250\n",
      "514/514 [==============================] - 0s 367us/sample - loss: 0.2221 - accuracy: 0.6673\n",
      "Epoch 4/250\n",
      "514/514 [==============================] - 0s 363us/sample - loss: 0.2267 - accuracy: 0.6673\n",
      "Epoch 5/250\n",
      "514/514 [==============================] - 0s 382us/sample - loss: 0.2046 - accuracy: 0.7004\n",
      "Epoch 6/250\n",
      "514/514 [==============================] - 0s 483us/sample - loss: 0.2052 - accuracy: 0.6887\n",
      "Epoch 7/250\n",
      "514/514 [==============================] - 0s 369us/sample - loss: 0.2027 - accuracy: 0.7004\n",
      "Epoch 8/250\n",
      "514/514 [==============================] - 0s 386us/sample - loss: 0.2111 - accuracy: 0.6887\n",
      "Epoch 9/250\n",
      "514/514 [==============================] - 0s 456us/sample - loss: 0.2086 - accuracy: 0.6887\n",
      "Epoch 10/250\n",
      "514/514 [==============================] - 0s 483us/sample - loss: 0.2031 - accuracy: 0.6926\n",
      "Epoch 11/250\n",
      "514/514 [==============================] - 0s 443us/sample - loss: 0.2059 - accuracy: 0.7023\n",
      "Epoch 12/250\n",
      "514/514 [==============================] - 0s 462us/sample - loss: 0.1975 - accuracy: 0.7179\n",
      "Epoch 13/250\n",
      "514/514 [==============================] - 0s 574us/sample - loss: 0.1958 - accuracy: 0.7140\n",
      "Epoch 14/250\n",
      "514/514 [==============================] - 0s 561us/sample - loss: 0.1899 - accuracy: 0.7121\n",
      "Epoch 15/250\n",
      "514/514 [==============================] - 0s 501us/sample - loss: 0.1898 - accuracy: 0.7315\n",
      "Epoch 16/250\n",
      "514/514 [==============================] - 0s 429us/sample - loss: 0.2062 - accuracy: 0.6946\n",
      "Epoch 17/250\n",
      "514/514 [==============================] - 0s 435us/sample - loss: 0.1899 - accuracy: 0.7179\n",
      "Epoch 18/250\n",
      "514/514 [==============================] - 0s 423us/sample - loss: 0.1886 - accuracy: 0.7198\n",
      "Epoch 19/250\n",
      "514/514 [==============================] - 0s 415us/sample - loss: 0.1857 - accuracy: 0.7198\n",
      "Epoch 20/250\n",
      "514/514 [==============================] - 0s 431us/sample - loss: 0.1906 - accuracy: 0.7121\n",
      "Epoch 21/250\n",
      "514/514 [==============================] - 0s 460us/sample - loss: 0.1847 - accuracy: 0.7296\n",
      "Epoch 22/250\n",
      "514/514 [==============================] - 0s 433us/sample - loss: 0.1840 - accuracy: 0.7160\n",
      "Epoch 23/250\n",
      "514/514 [==============================] - 0s 534us/sample - loss: 0.1872 - accuracy: 0.7218\n",
      "Epoch 24/250\n",
      "514/514 [==============================] - 0s 627us/sample - loss: 0.1785 - accuracy: 0.7315\n",
      "Epoch 25/250\n",
      "514/514 [==============================] - 0s 609us/sample - loss: 0.1872 - accuracy: 0.7062\n",
      "Epoch 26/250\n",
      "514/514 [==============================] - 0s 540us/sample - loss: 0.1880 - accuracy: 0.7393\n",
      "Epoch 27/250\n",
      "514/514 [==============================] - 0s 503us/sample - loss: 0.1757 - accuracy: 0.7412\n",
      "Epoch 28/250\n",
      "514/514 [==============================] - 0s 559us/sample - loss: 0.1798 - accuracy: 0.7354\n",
      "Epoch 29/250\n",
      "514/514 [==============================] - 0s 530us/sample - loss: 0.1740 - accuracy: 0.7529\n",
      "Epoch 30/250\n",
      "514/514 [==============================] - 0s 512us/sample - loss: 0.1814 - accuracy: 0.7412\n",
      "Epoch 31/250\n",
      "514/514 [==============================] - 0s 504us/sample - loss: 0.1764 - accuracy: 0.7490\n",
      "Epoch 32/250\n",
      "514/514 [==============================] - 0s 512us/sample - loss: 0.1712 - accuracy: 0.7354\n",
      "Epoch 33/250\n",
      "514/514 [==============================] - 0s 532us/sample - loss: 0.1795 - accuracy: 0.7198\n",
      "Epoch 34/250\n",
      "514/514 [==============================] - 0s 516us/sample - loss: 0.1741 - accuracy: 0.7529\n",
      "Epoch 35/250\n",
      "514/514 [==============================] - 0s 497us/sample - loss: 0.1794 - accuracy: 0.7276\n",
      "Epoch 36/250\n",
      "514/514 [==============================] - 0s 518us/sample - loss: 0.1710 - accuracy: 0.7588\n",
      "Epoch 37/250\n",
      "514/514 [==============================] - 0s 417us/sample - loss: 0.1709 - accuracy: 0.7490\n",
      "Epoch 38/250\n",
      "514/514 [==============================] - 0s 429us/sample - loss: 0.1697 - accuracy: 0.7529\n",
      "Epoch 39/250\n",
      "514/514 [==============================] - 0s 407us/sample - loss: 0.1684 - accuracy: 0.7510\n",
      "Epoch 40/250\n",
      "514/514 [==============================] - 0s 409us/sample - loss: 0.1778 - accuracy: 0.7471\n",
      "Epoch 41/250\n",
      "514/514 [==============================] - 0s 400us/sample - loss: 0.1747 - accuracy: 0.7315\n",
      "Epoch 42/250\n",
      "514/514 [==============================] - 0s 415us/sample - loss: 0.1651 - accuracy: 0.7607\n",
      "Epoch 43/250\n",
      "514/514 [==============================] - 0s 408us/sample - loss: 0.1689 - accuracy: 0.7471\n",
      "Epoch 44/250\n",
      "514/514 [==============================] - 0s 427us/sample - loss: 0.1639 - accuracy: 0.7607\n",
      "Epoch 45/250\n",
      "514/514 [==============================] - 0s 580us/sample - loss: 0.1638 - accuracy: 0.7626\n",
      "Epoch 46/250\n",
      "514/514 [==============================] - 0s 553us/sample - loss: 0.1639 - accuracy: 0.7588\n",
      "Epoch 47/250\n",
      "514/514 [==============================] - 0s 415us/sample - loss: 0.1575 - accuracy: 0.7782\n",
      "Epoch 48/250\n",
      "514/514 [==============================] - 0s 439us/sample - loss: 0.1690 - accuracy: 0.7529\n",
      "Epoch 49/250\n",
      "514/514 [==============================] - 0s 561us/sample - loss: 0.1724 - accuracy: 0.7374\n",
      "Epoch 50/250\n",
      "514/514 [==============================] - 0s 413us/sample - loss: 0.1713 - accuracy: 0.7490\n",
      "Epoch 51/250\n",
      "514/514 [==============================] - 0s 454us/sample - loss: 0.1603 - accuracy: 0.7763\n",
      "Epoch 52/250\n",
      "514/514 [==============================] - 0s 396us/sample - loss: 0.1602 - accuracy: 0.7665\n",
      "Epoch 53/250\n",
      "514/514 [==============================] - 0s 549us/sample - loss: 0.1631 - accuracy: 0.7588\n",
      "Epoch 54/250\n",
      "514/514 [==============================] - 0s 483us/sample - loss: 0.1605 - accuracy: 0.7588\n",
      "Epoch 55/250\n",
      "514/514 [==============================] - 0s 444us/sample - loss: 0.1595 - accuracy: 0.7704\n",
      "Epoch 56/250\n",
      "514/514 [==============================] - 0s 489us/sample - loss: 0.1581 - accuracy: 0.7724\n",
      "Epoch 57/250\n",
      "514/514 [==============================] - 0s 600us/sample - loss: 0.1563 - accuracy: 0.7704\n",
      "Epoch 58/250\n",
      "514/514 [==============================] - 0s 470us/sample - loss: 0.1540 - accuracy: 0.7840\n",
      "Epoch 59/250\n",
      "514/514 [==============================] - 0s 466us/sample - loss: 0.1546 - accuracy: 0.7782\n",
      "Epoch 60/250\n",
      "514/514 [==============================] - 0s 494us/sample - loss: 0.1497 - accuracy: 0.7802\n",
      "Epoch 61/250\n",
      "514/514 [==============================] - 0s 458us/sample - loss: 0.1510 - accuracy: 0.7938\n",
      "Epoch 62/250\n",
      "514/514 [==============================] - 0s 459us/sample - loss: 0.1486 - accuracy: 0.7840\n",
      "Epoch 63/250\n",
      "514/514 [==============================] - 0s 364us/sample - loss: 0.1561 - accuracy: 0.7646\n",
      "Epoch 64/250\n",
      "514/514 [==============================] - 0s 487us/sample - loss: 0.1593 - accuracy: 0.7802\n",
      "Epoch 65/250\n",
      "514/514 [==============================] - 0s 470us/sample - loss: 0.1523 - accuracy: 0.7840\n",
      "Epoch 66/250\n",
      "514/514 [==============================] - 0s 460us/sample - loss: 0.1511 - accuracy: 0.7802\n",
      "Epoch 67/250\n",
      "514/514 [==============================] - 0s 458us/sample - loss: 0.1495 - accuracy: 0.7860\n",
      "Epoch 68/250\n",
      "514/514 [==============================] - 0s 417us/sample - loss: 0.1468 - accuracy: 0.7802\n",
      "Epoch 69/250\n",
      "514/514 [==============================] - 0s 410us/sample - loss: 0.1519 - accuracy: 0.7782\n",
      "Epoch 70/250\n",
      "514/514 [==============================] - 0s 423us/sample - loss: 0.1508 - accuracy: 0.7899\n",
      "Epoch 71/250\n",
      "514/514 [==============================] - 0s 464us/sample - loss: 0.1460 - accuracy: 0.8016\n",
      "Epoch 72/250\n",
      "514/514 [==============================] - 0s 444us/sample - loss: 0.1479 - accuracy: 0.8016\n",
      "Epoch 73/250\n",
      "514/514 [==============================] - 0s 437us/sample - loss: 0.1485 - accuracy: 0.7860\n",
      "Epoch 74/250\n",
      "514/514 [==============================] - 0s 570us/sample - loss: 0.1460 - accuracy: 0.7957\n",
      "Epoch 75/250\n",
      "514/514 [==============================] - 0s 502us/sample - loss: 0.1443 - accuracy: 0.7957\n",
      "Epoch 76/250\n",
      "514/514 [==============================] - 0s 425us/sample - loss: 0.1479 - accuracy: 0.7860\n",
      "Epoch 77/250\n",
      "514/514 [==============================] - 0s 444us/sample - loss: 0.1500 - accuracy: 0.7821\n",
      "Epoch 78/250\n",
      "514/514 [==============================] - 0s 454us/sample - loss: 0.1411 - accuracy: 0.8016\n",
      "Epoch 79/250\n",
      "514/514 [==============================] - 0s 402us/sample - loss: 0.1485 - accuracy: 0.7802\n",
      "Epoch 80/250\n",
      "514/514 [==============================] - 0s 427us/sample - loss: 0.1418 - accuracy: 0.7996\n",
      "Epoch 81/250\n",
      "514/514 [==============================] - 0s 510us/sample - loss: 0.1495 - accuracy: 0.7821\n",
      "Epoch 82/250\n",
      "514/514 [==============================] - 0s 448us/sample - loss: 0.1363 - accuracy: 0.8113\n",
      "Epoch 83/250\n",
      "514/514 [==============================] - 0s 425us/sample - loss: 0.1321 - accuracy: 0.8054\n",
      "Epoch 84/250\n",
      "514/514 [==============================] - 0s 402us/sample - loss: 0.1416 - accuracy: 0.7977\n",
      "Epoch 85/250\n",
      "514/514 [==============================] - 0s 374us/sample - loss: 0.1349 - accuracy: 0.8210\n",
      "Epoch 86/250\n",
      "514/514 [==============================] - 0s 407us/sample - loss: 0.1365 - accuracy: 0.7938\n",
      "Epoch 87/250\n",
      "514/514 [==============================] - 0s 488us/sample - loss: 0.1319 - accuracy: 0.8054\n",
      "Epoch 88/250\n",
      "514/514 [==============================] - 0s 510us/sample - loss: 0.1370 - accuracy: 0.8016\n",
      "Epoch 89/250\n",
      "514/514 [==============================] - 0s 507us/sample - loss: 0.1336 - accuracy: 0.8054\n",
      "Epoch 90/250\n",
      "514/514 [==============================] - 0s 541us/sample - loss: 0.1368 - accuracy: 0.8016\n",
      "Epoch 91/250\n",
      "514/514 [==============================] - 0s 431us/sample - loss: 0.1306 - accuracy: 0.8152\n",
      "Epoch 92/250\n",
      "514/514 [==============================] - 0s 439us/sample - loss: 0.1371 - accuracy: 0.8113\n",
      "Epoch 93/250\n",
      "514/514 [==============================] - 0s 543us/sample - loss: 0.1310 - accuracy: 0.8093\n",
      "Epoch 94/250\n",
      "514/514 [==============================] - 0s 444us/sample - loss: 0.1258 - accuracy: 0.8307\n",
      "Epoch 95/250\n",
      "514/514 [==============================] - 0s 386us/sample - loss: 0.1316 - accuracy: 0.8113\n",
      "Epoch 96/250\n",
      "514/514 [==============================] - 0s 547us/sample - loss: 0.1261 - accuracy: 0.8307\n",
      "Epoch 97/250\n",
      "514/514 [==============================] - 0s 404us/sample - loss: 0.1306 - accuracy: 0.8054\n",
      "Epoch 98/250\n",
      "514/514 [==============================] - 0s 421us/sample - loss: 0.1256 - accuracy: 0.8346\n",
      "Epoch 99/250\n",
      "514/514 [==============================] - 0s 398us/sample - loss: 0.1330 - accuracy: 0.8191\n",
      "Epoch 100/250\n",
      "514/514 [==============================] - 0s 392us/sample - loss: 0.1208 - accuracy: 0.8152\n",
      "Epoch 101/250\n",
      "514/514 [==============================] - 0s 390us/sample - loss: 0.1243 - accuracy: 0.8307\n",
      "Epoch 102/250\n",
      "514/514 [==============================] - 0s 386us/sample - loss: 0.1267 - accuracy: 0.8152\n",
      "Epoch 103/250\n",
      "514/514 [==============================] - 0s 392us/sample - loss: 0.1266 - accuracy: 0.8230\n",
      "Epoch 104/250\n",
      "514/514 [==============================] - 0s 423us/sample - loss: 0.1351 - accuracy: 0.8152\n",
      "Epoch 105/250\n",
      "514/514 [==============================] - 0s 393us/sample - loss: 0.1224 - accuracy: 0.8268\n",
      "Epoch 106/250\n",
      "514/514 [==============================] - 0s 390us/sample - loss: 0.1220 - accuracy: 0.8327\n",
      "Epoch 107/250\n",
      "514/514 [==============================] - 0s 386us/sample - loss: 0.1192 - accuracy: 0.8385\n",
      "Epoch 108/250\n",
      "514/514 [==============================] - 0s 431us/sample - loss: 0.1227 - accuracy: 0.8230\n",
      "Epoch 109/250\n",
      "514/514 [==============================] - 0s 469us/sample - loss: 0.1162 - accuracy: 0.8385\n",
      "Epoch 110/250\n",
      "514/514 [==============================] - 0s 433us/sample - loss: 0.1209 - accuracy: 0.8307\n",
      "Epoch 111/250\n",
      "514/514 [==============================] - 0s 468us/sample - loss: 0.1187 - accuracy: 0.8288\n",
      "Epoch 112/250\n",
      "514/514 [==============================] - 0s 435us/sample - loss: 0.1167 - accuracy: 0.8230\n",
      "Epoch 113/250\n",
      "514/514 [==============================] - 0s 491us/sample - loss: 0.1162 - accuracy: 0.8580\n",
      "Epoch 114/250\n",
      "514/514 [==============================] - 0s 442us/sample - loss: 0.1177 - accuracy: 0.8249\n",
      "Epoch 115/250\n",
      "514/514 [==============================] - 0s 450us/sample - loss: 0.1186 - accuracy: 0.8327\n",
      "Epoch 116/250\n",
      "514/514 [==============================] - 0s 439us/sample - loss: 0.1101 - accuracy: 0.8619 - loss: 0.1101 - accuracy\n",
      "Epoch 117/250\n",
      "514/514 [==============================] - 0s 440us/sample - loss: 0.1088 - accuracy: 0.8521\n",
      "Epoch 118/250\n",
      "514/514 [==============================] - 0s 409us/sample - loss: 0.1080 - accuracy: 0.8638\n",
      "Epoch 119/250\n",
      "514/514 [==============================] - 0s 462us/sample - loss: 0.1085 - accuracy: 0.8521\n",
      "Epoch 120/250\n",
      "514/514 [==============================] - 0s 450us/sample - loss: 0.1121 - accuracy: 0.8288\n",
      "Epoch 121/250\n",
      "514/514 [==============================] - 0s 473us/sample - loss: 0.1053 - accuracy: 0.8619\n",
      "Epoch 122/250\n",
      "514/514 [==============================] - 0s 497us/sample - loss: 0.1112 - accuracy: 0.8385\n",
      "Epoch 123/250\n",
      "514/514 [==============================] - 0s 491us/sample - loss: 0.1073 - accuracy: 0.8502\n",
      "Epoch 124/250\n",
      "514/514 [==============================] - 0s 446us/sample - loss: 0.1089 - accuracy: 0.8521\n",
      "Epoch 125/250\n",
      "514/514 [==============================] - 0s 446us/sample - loss: 0.1030 - accuracy: 0.8638\n",
      "Epoch 126/250\n",
      "514/514 [==============================] - 0s 448us/sample - loss: 0.1116 - accuracy: 0.8444\n",
      "Epoch 127/250\n",
      "514/514 [==============================] - 0s 475us/sample - loss: 0.1047 - accuracy: 0.8541\n",
      "Epoch 128/250\n",
      "514/514 [==============================] - 0s 437us/sample - loss: 0.1087 - accuracy: 0.8638\n",
      "Epoch 129/250\n",
      "514/514 [==============================] - 0s 371us/sample - loss: 0.1022 - accuracy: 0.8716\n",
      "Epoch 130/250\n",
      "514/514 [==============================] - 0s 402us/sample - loss: 0.1058 - accuracy: 0.8599\n",
      "Epoch 131/250\n",
      "514/514 [==============================] - 0s 384us/sample - loss: 0.1024 - accuracy: 0.8677\n",
      "Epoch 132/250\n",
      "514/514 [==============================] - 0s 413us/sample - loss: 0.1043 - accuracy: 0.8580\n",
      "Epoch 133/250\n",
      "514/514 [==============================] - 0s 440us/sample - loss: 0.1077 - accuracy: 0.8521\n",
      "Epoch 134/250\n",
      "514/514 [==============================] - 0s 436us/sample - loss: 0.1067 - accuracy: 0.8366\n",
      "Epoch 135/250\n",
      "514/514 [==============================] - 0s 398us/sample - loss: 0.1009 - accuracy: 0.8658\n",
      "Epoch 136/250\n",
      "514/514 [==============================] - 0s 400us/sample - loss: 0.1064 - accuracy: 0.8521\n",
      "Epoch 137/250\n",
      "514/514 [==============================] - 0s 375us/sample - loss: 0.1042 - accuracy: 0.8482\n",
      "Epoch 138/250\n",
      "514/514 [==============================] - 0s 402us/sample - loss: 0.1065 - accuracy: 0.8502\n",
      "Epoch 139/250\n",
      "514/514 [==============================] - 0s 388us/sample - loss: 0.0985 - accuracy: 0.8677\n",
      "Epoch 140/250\n",
      "514/514 [==============================] - 0s 393us/sample - loss: 0.0942 - accuracy: 0.8852\n",
      "Epoch 141/250\n",
      "514/514 [==============================] - 0s 402us/sample - loss: 0.0937 - accuracy: 0.8852\n",
      "Epoch 142/250\n",
      "514/514 [==============================] - 0s 418us/sample - loss: 0.0956 - accuracy: 0.8794\n",
      "Epoch 143/250\n",
      "514/514 [==============================] - 0s 414us/sample - loss: 0.0938 - accuracy: 0.8658\n",
      "Epoch 144/250\n",
      "514/514 [==============================] - 0s 475us/sample - loss: 0.0910 - accuracy: 0.8735\n",
      "Epoch 145/250\n",
      "514/514 [==============================] - 0s 446us/sample - loss: 0.0960 - accuracy: 0.8658\n",
      "Epoch 146/250\n",
      "514/514 [==============================] - 0s 487us/sample - loss: 0.0967 - accuracy: 0.8638\n",
      "Epoch 147/250\n",
      "514/514 [==============================] - 0s 479us/sample - loss: 0.0906 - accuracy: 0.8716\n",
      "Epoch 148/250\n",
      "514/514 [==============================] - 0s 489us/sample - loss: 0.0966 - accuracy: 0.8696\n",
      "Epoch 149/250\n",
      "514/514 [==============================] - 0s 464us/sample - loss: 0.0945 - accuracy: 0.8716\n",
      "Epoch 150/250\n",
      "514/514 [==============================] - 0s 458us/sample - loss: 0.0882 - accuracy: 0.8872\n",
      "Epoch 151/250\n",
      "514/514 [==============================] - 0s 446us/sample - loss: 0.0888 - accuracy: 0.8696\n",
      "Epoch 152/250\n",
      "514/514 [==============================] - 0s 442us/sample - loss: 0.0888 - accuracy: 0.8872\n",
      "Epoch 153/250\n",
      "514/514 [==============================] - 0s 458us/sample - loss: 0.0963 - accuracy: 0.8696\n",
      "Epoch 154/250\n"
     ]
    },
    {
     "name": "stdout",
     "output_type": "stream",
     "text": [
      "514/514 [==============================] - 0s 469us/sample - loss: 0.0977 - accuracy: 0.8599\n",
      "Epoch 155/250\n",
      "514/514 [==============================] - 0s 442us/sample - loss: 0.0933 - accuracy: 0.8677\n",
      "Epoch 156/250\n",
      "514/514 [==============================] - 0s 454us/sample - loss: 0.0883 - accuracy: 0.8813\n",
      "Epoch 157/250\n",
      "514/514 [==============================] - 0s 510us/sample - loss: 0.0925 - accuracy: 0.8755\n",
      "Epoch 158/250\n",
      "514/514 [==============================] - 0s 495us/sample - loss: 0.0879 - accuracy: 0.8735\n",
      "Epoch 159/250\n",
      "514/514 [==============================] - 0s 481us/sample - loss: 0.0863 - accuracy: 0.8949\n",
      "Epoch 160/250\n",
      "514/514 [==============================] - 0s 464us/sample - loss: 0.0889 - accuracy: 0.8891\n",
      "Epoch 161/250\n",
      "514/514 [==============================] - 0s 494us/sample - loss: 0.1013 - accuracy: 0.8638\n",
      "Epoch 162/250\n",
      "514/514 [==============================] - 0s 506us/sample - loss: 0.0896 - accuracy: 0.8774\n",
      "Epoch 163/250\n",
      "514/514 [==============================] - 0s 485us/sample - loss: 0.0808 - accuracy: 0.8911\n",
      "Epoch 164/250\n",
      "514/514 [==============================] - 0s 435us/sample - loss: 0.0866 - accuracy: 0.8891\n",
      "Epoch 165/250\n",
      "514/514 [==============================] - 0s 458us/sample - loss: 0.0813 - accuracy: 0.9047\n",
      "Epoch 166/250\n",
      "514/514 [==============================] - 0s 489us/sample - loss: 0.0786 - accuracy: 0.8911\n",
      "Epoch 167/250\n",
      "514/514 [==============================] - 0s 477us/sample - loss: 0.0852 - accuracy: 0.8852\n",
      "Epoch 168/250\n",
      "514/514 [==============================] - 0s 468us/sample - loss: 0.0793 - accuracy: 0.8988\n",
      "Epoch 169/250\n",
      "514/514 [==============================] - 0s 479us/sample - loss: 0.0851 - accuracy: 0.8911\n",
      "Epoch 170/250\n",
      "514/514 [==============================] - 0s 450us/sample - loss: 0.0798 - accuracy: 0.8969\n",
      "Epoch 171/250\n",
      "514/514 [==============================] - 0s 499us/sample - loss: 0.0800 - accuracy: 0.8969\n",
      "Epoch 172/250\n",
      "514/514 [==============================] - 0s 602us/sample - loss: 0.0825 - accuracy: 0.8852\n",
      "Epoch 173/250\n",
      "514/514 [==============================] - 0s 613us/sample - loss: 0.0781 - accuracy: 0.9105\n",
      "Epoch 174/250\n",
      "514/514 [==============================] - 0s 621us/sample - loss: 0.0801 - accuracy: 0.9125\n",
      "Epoch 175/250\n",
      "514/514 [==============================] - 0s 508us/sample - loss: 0.0858 - accuracy: 0.8794\n",
      "Epoch 176/250\n",
      "514/514 [==============================] - 0s 448us/sample - loss: 0.0807 - accuracy: 0.8930\n",
      "Epoch 177/250\n",
      "514/514 [==============================] - 0s 466us/sample - loss: 0.0780 - accuracy: 0.8872\n",
      "Epoch 178/250\n",
      "514/514 [==============================] - 0s 444us/sample - loss: 0.0772 - accuracy: 0.8969\n",
      "Epoch 179/250\n",
      "514/514 [==============================] - 0s 450us/sample - loss: 0.0755 - accuracy: 0.9066\n",
      "Epoch 180/250\n",
      "514/514 [==============================] - 0s 448us/sample - loss: 0.0754 - accuracy: 0.9047\n",
      "Epoch 181/250\n",
      "514/514 [==============================] - 0s 440us/sample - loss: 0.0796 - accuracy: 0.8930\n",
      "Epoch 182/250\n",
      "514/514 [==============================] - 0s 460us/sample - loss: 0.0750 - accuracy: 0.9125\n",
      "Epoch 183/250\n",
      "514/514 [==============================] - 0s 456us/sample - loss: 0.0662 - accuracy: 0.9125\n",
      "Epoch 184/250\n",
      "514/514 [==============================] - 0s 468us/sample - loss: 0.0686 - accuracy: 0.9105\n",
      "Epoch 185/250\n",
      "514/514 [==============================] - 0s 483us/sample - loss: 0.0669 - accuracy: 0.9086\n",
      "Epoch 186/250\n",
      "514/514 [==============================] - 0s 483us/sample - loss: 0.0735 - accuracy: 0.9066\n",
      "Epoch 187/250\n",
      "514/514 [==============================] - 0s 400us/sample - loss: 0.0732 - accuracy: 0.9086\n",
      "Epoch 188/250\n",
      "514/514 [==============================] - 0s 448us/sample - loss: 0.0715 - accuracy: 0.9047\n",
      "Epoch 189/250\n",
      "514/514 [==============================] - 0s 462us/sample - loss: 0.0699 - accuracy: 0.9047\n",
      "Epoch 190/250\n",
      "514/514 [==============================] - 0s 363us/sample - loss: 0.0673 - accuracy: 0.9183\n",
      "Epoch 191/250\n",
      "514/514 [==============================] - 0s 400us/sample - loss: 0.0726 - accuracy: 0.9125\n",
      "Epoch 192/250\n",
      "514/514 [==============================] - 0s 464us/sample - loss: 0.0708 - accuracy: 0.9163\n",
      "Epoch 193/250\n",
      "514/514 [==============================] - 0s 469us/sample - loss: 0.0680 - accuracy: 0.9105\n",
      "Epoch 194/250\n",
      "514/514 [==============================] - 0s 435us/sample - loss: 0.0669 - accuracy: 0.9144\n",
      "Epoch 195/250\n",
      "514/514 [==============================] - 0s 381us/sample - loss: 0.0684 - accuracy: 0.9125\n",
      "Epoch 196/250\n",
      "514/514 [==============================] - 0s 390us/sample - loss: 0.0669 - accuracy: 0.9261\n",
      "Epoch 197/250\n",
      "514/514 [==============================] - 0s 439us/sample - loss: 0.0671 - accuracy: 0.9144\n",
      "Epoch 198/250\n",
      "514/514 [==============================] - 0s 495us/sample - loss: 0.0662 - accuracy: 0.9125\n",
      "Epoch 199/250\n",
      "514/514 [==============================] - 0s 442us/sample - loss: 0.0670 - accuracy: 0.9183\n",
      "Epoch 200/250\n",
      "514/514 [==============================] - 0s 460us/sample - loss: 0.0678 - accuracy: 0.9163\n",
      "Epoch 201/250\n",
      "514/514 [==============================] - 0s 446us/sample - loss: 0.0676 - accuracy: 0.9183\n",
      "Epoch 202/250\n",
      "514/514 [==============================] - 0s 448us/sample - loss: 0.0653 - accuracy: 0.9125\n",
      "Epoch 203/250\n",
      "514/514 [==============================] - 0s 437us/sample - loss: 0.0633 - accuracy: 0.9222\n",
      "Epoch 204/250\n",
      "514/514 [==============================] - 0s 394us/sample - loss: 0.0714 - accuracy: 0.8988\n",
      "Epoch 205/250\n",
      "514/514 [==============================] - 0s 400us/sample - loss: 0.0621 - accuracy: 0.9261\n",
      "Epoch 206/250\n",
      "514/514 [==============================] - 0s 398us/sample - loss: 0.0626 - accuracy: 0.9241\n",
      "Epoch 207/250\n",
      "514/514 [==============================] - 0s 483us/sample - loss: 0.0697 - accuracy: 0.9008\n",
      "Epoch 208/250\n",
      "514/514 [==============================] - 0s 467us/sample - loss: 0.0762 - accuracy: 0.8911\n",
      "Epoch 209/250\n",
      "514/514 [==============================] - 0s 427us/sample - loss: 0.0632 - accuracy: 0.9319\n",
      "Epoch 210/250\n",
      "514/514 [==============================] - 0s 394us/sample - loss: 0.0625 - accuracy: 0.9144\n",
      "Epoch 211/250\n",
      "514/514 [==============================] - 0s 437us/sample - loss: 0.0634 - accuracy: 0.9202\n",
      "Epoch 212/250\n",
      "514/514 [==============================] - 0s 411us/sample - loss: 0.0684 - accuracy: 0.9183\n",
      "Epoch 213/250\n",
      "514/514 [==============================] - 0s 408us/sample - loss: 0.0532 - accuracy: 0.9397\n",
      "Epoch 214/250\n",
      "514/514 [==============================] - 0s 378us/sample - loss: 0.0647 - accuracy: 0.9183\n",
      "Epoch 215/250\n",
      "514/514 [==============================] - 0s 388us/sample - loss: 0.0613 - accuracy: 0.9241\n",
      "Epoch 216/250\n",
      "514/514 [==============================] - 0s 470us/sample - loss: 0.0534 - accuracy: 0.9339\n",
      "Epoch 217/250\n",
      "514/514 [==============================] - 0s 466us/sample - loss: 0.0581 - accuracy: 0.9339\n",
      "Epoch 218/250\n",
      "514/514 [==============================] - 0s 446us/sample - loss: 0.0564 - accuracy: 0.9339\n",
      "Epoch 219/250\n",
      "514/514 [==============================] - 0s 380us/sample - loss: 0.0555 - accuracy: 0.9416\n",
      "Epoch 220/250\n",
      "514/514 [==============================] - 0s 472us/sample - loss: 0.0477 - accuracy: 0.9494\n",
      "Epoch 221/250\n",
      "514/514 [==============================] - 0s 448us/sample - loss: 0.0575 - accuracy: 0.9241\n",
      "Epoch 222/250\n",
      "514/514 [==============================] - 0s 462us/sample - loss: 0.0533 - accuracy: 0.9455\n",
      "Epoch 223/250\n",
      "514/514 [==============================] - 0s 398us/sample - loss: 0.0568 - accuracy: 0.9222\n",
      "Epoch 224/250\n",
      "514/514 [==============================] - 0s 406us/sample - loss: 0.0650 - accuracy: 0.9163\n",
      "Epoch 225/250\n",
      "514/514 [==============================] - 0s 460us/sample - loss: 0.0597 - accuracy: 0.9125\n",
      "Epoch 226/250\n",
      "514/514 [==============================] - 0s 444us/sample - loss: 0.0609 - accuracy: 0.9261\n",
      "Epoch 227/250\n",
      "514/514 [==============================] - 0s 398us/sample - loss: 0.0597 - accuracy: 0.9241\n",
      "Epoch 228/250\n",
      "514/514 [==============================] - 0s 394us/sample - loss: 0.0610 - accuracy: 0.9241\n",
      "Epoch 229/250\n",
      "514/514 [==============================] - 0s 468us/sample - loss: 0.0582 - accuracy: 0.9202\n",
      "Epoch 230/250\n",
      "514/514 [==============================] - 0s 409us/sample - loss: 0.0517 - accuracy: 0.9358\n",
      "Epoch 231/250\n",
      "514/514 [==============================] - 0s 419us/sample - loss: 0.0495 - accuracy: 0.9494\n",
      "Epoch 232/250\n",
      "514/514 [==============================] - 0s 404us/sample - loss: 0.0508 - accuracy: 0.9416\n",
      "Epoch 233/250\n",
      "514/514 [==============================] - 0s 400us/sample - loss: 0.0497 - accuracy: 0.9455\n",
      "Epoch 234/250\n",
      "514/514 [==============================] - 0s 456us/sample - loss: 0.0566 - accuracy: 0.9261\n",
      "Epoch 235/250\n",
      "514/514 [==============================] - 0s 402us/sample - loss: 0.0520 - accuracy: 0.9319\n",
      "Epoch 236/250\n",
      "514/514 [==============================] - 0s 388us/sample - loss: 0.0574 - accuracy: 0.9241\n",
      "Epoch 237/250\n",
      "514/514 [==============================] - 0s 440us/sample - loss: 0.0468 - accuracy: 0.9436\n",
      "Epoch 238/250\n",
      "514/514 [==============================] - 0s 444us/sample - loss: 0.0606 - accuracy: 0.9125\n",
      "Epoch 239/250\n",
      "514/514 [==============================] - 0s 503us/sample - loss: 0.0543 - accuracy: 0.9300\n",
      "Epoch 240/250\n",
      "514/514 [==============================] - 0s 442us/sample - loss: 0.0504 - accuracy: 0.9358\n",
      "Epoch 241/250\n",
      "514/514 [==============================] - 0s 376us/sample - loss: 0.0497 - accuracy: 0.9397\n",
      "Epoch 242/250\n",
      "514/514 [==============================] - 0s 336us/sample - loss: 0.0567 - accuracy: 0.9455\n",
      "Epoch 243/250\n",
      "514/514 [==============================] - 0s 458us/sample - loss: 0.0630 - accuracy: 0.9144\n",
      "Epoch 244/250\n",
      "514/514 [==============================] - 0s 349us/sample - loss: 0.0683 - accuracy: 0.9086\n",
      "Epoch 245/250\n",
      "514/514 [==============================] - 0s 392us/sample - loss: 0.0535 - accuracy: 0.9300\n",
      "Epoch 246/250\n",
      "514/514 [==============================] - 0s 367us/sample - loss: 0.0564 - accuracy: 0.9280\n",
      "Epoch 247/250\n",
      "514/514 [==============================] - 0s 348us/sample - loss: 0.0462 - accuracy: 0.9397\n",
      "Epoch 248/250\n",
      "514/514 [==============================] - 0s 369us/sample - loss: 0.0475 - accuracy: 0.9436\n",
      "Epoch 249/250\n",
      "514/514 [==============================] - 0s 366us/sample - loss: 0.0507 - accuracy: 0.9397\n",
      "Epoch 250/250\n",
      "514/514 [==============================] - 0s 378us/sample - loss: 0.0490 - accuracy: 0.9475\n"
     ]
    },
    {
     "data": {
      "text/plain": [
       "<tensorflow.python.keras.callbacks.History at 0x27838a0c390>"
      ]
     },
     "execution_count": 154,
     "metadata": {},
     "output_type": "execute_result"
    }
   ],
   "source": [
    "model.fit(X_train, y_train, batch_size=5,epochs=250,callbacks=[tf.keras.callbacks.TensorBoard('C:\\\\tensor4')])"
   ]
  },
  {
   "cell_type": "code",
   "execution_count": 166,
   "metadata": {},
   "outputs": [
    {
     "name": "stdout",
     "output_type": "stream",
     "text": [
      "[[ 17.    163.     72.     41.    114.     40.9     0.817  47.   ]]\n"
     ]
    }
   ],
   "source": [
    "m = dataset[159,0:8]\n",
    "m=m.reshape(1,-1)\n",
    "print(m)"
   ]
  },
  {
   "cell_type": "code",
   "execution_count": 168,
   "metadata": {},
   "outputs": [
    {
     "name": "stdout",
     "output_type": "stream",
     "text": [
      "1.0\n"
     ]
    }
   ],
   "source": [
    "n = dataset[159,8]\n",
    "#e=e.reshape(1,1)\n",
    "print(n)"
   ]
  },
  {
   "cell_type": "code",
   "execution_count": 169,
   "metadata": {},
   "outputs": [],
   "source": [
    "predicted=model.predict(m)"
   ]
  },
  {
   "cell_type": "code",
   "execution_count": 170,
   "metadata": {},
   "outputs": [
    {
     "data": {
      "text/plain": [
       "array([[0.994574]], dtype=float32)"
      ]
     },
     "execution_count": 170,
     "metadata": {},
     "output_type": "execute_result"
    }
   ],
   "source": [
    "predicted"
   ]
  },
  {
   "cell_type": "code",
   "execution_count": 182,
   "metadata": {},
   "outputs": [
    {
     "name": "stdout",
     "output_type": "stream",
     "text": [
      "99% It is Diabetes\n"
     ]
    }
   ],
   "source": [
    "percentage=predicted[predicted>0.5]\n",
    "percentage=(percentage*100)\n",
    "l=str(percentage)\n",
    "if predicted>0.5:\n",
    "    result='Diabetes'\n",
    "else:\n",
    "    result='Not a Diabetes'\n",
    "print(f'{str(l)[1:3]}% It is {result}')"
   ]
  },
  {
   "cell_type": "code",
   "execution_count": 185,
   "metadata": {},
   "outputs": [],
   "source": [
    "scores = model.evaluate(X_train, y_train, verbose=0)"
   ]
  },
  {
   "cell_type": "code",
   "execution_count": 189,
   "metadata": {},
   "outputs": [
    {
     "data": {
      "text/plain": [
       "0.959144"
      ]
     },
     "execution_count": 189,
     "metadata": {},
     "output_type": "execute_result"
    }
   ],
   "source": [
    "scores[1]"
   ]
  },
  {
   "cell_type": "code",
   "execution_count": 188,
   "metadata": {},
   "outputs": [
    {
     "name": "stdout",
     "output_type": "stream",
     "text": [
      "Accuracy: 95.91%\n"
     ]
    }
   ],
   "source": [
    "print(\"Accuracy: %.2f%%\" % (scores[1]*100))"
   ]
  },
  {
   "cell_type": "code",
   "execution_count": null,
   "metadata": {},
   "outputs": [],
   "source": []
  }
 ],
 "metadata": {
  "kernelspec": {
   "display_name": "Python 3",
   "language": "python",
   "name": "python3"
  },
  "language_info": {
   "codemirror_mode": {
    "name": "ipython",
    "version": 3
   },
   "file_extension": ".py",
   "mimetype": "text/x-python",
   "name": "python",
   "nbconvert_exporter": "python",
   "pygments_lexer": "ipython3",
   "version": "3.7.1"
  }
 },
 "nbformat": 4,
 "nbformat_minor": 2
}
